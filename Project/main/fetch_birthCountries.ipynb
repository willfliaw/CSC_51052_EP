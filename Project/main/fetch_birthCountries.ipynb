{
 "cells": [
  {
   "cell_type": "code",
   "execution_count": null,
   "id": "d7a219a0",
   "metadata": {},
   "outputs": [],
   "source": [
    "!pip install wikipedia-api\n",
    "!pip install requests requests-cache"
   ]
  },
  {
   "cell_type": "code",
   "execution_count": 2,
   "id": "1b166031",
   "metadata": {},
   "outputs": [],
   "source": [
    "import re\n",
    "from concurrent.futures import ThreadPoolExecutor\n",
    "\n",
    "import numpy as np\n",
    "import pandas as pd\n",
    "import requests\n",
    "import requests_cache\n",
    "import wikipediaapi\n",
    "from bs4 import BeautifulSoup"
   ]
  },
  {
   "cell_type": "code",
   "execution_count": null,
   "id": "ca14dd8c",
   "metadata": {},
   "outputs": [],
   "source": [
    "DATA_PATH = \"./data\"\n",
    "OLYMPIC_DATA_PATH = os.path.join(DATA_PATH, \"olympic_sw_1896_2022\")"
   ]
  },
  {
   "cell_type": "code",
   "execution_count": 3,
   "id": "52dc43b6",
   "metadata": {},
   "outputs": [],
   "source": [
    "df = pd.read_csv(os.path.join(OLYMPIC_DATA_PATH, \"olympic_athletes.csv\"))"
   ]
  },
  {
   "cell_type": "code",
   "execution_count": null,
   "id": "6bbc7c90",
   "metadata": {},
   "outputs": [],
   "source": [
    "import time\n",
    "\n",
    "requests_cache.install_cache(\"wikipedia_cache\", backend=\"sqlite\", expire_after=86400)\n",
    "\n",
    "\n",
    "def split_name(athlete_name):\n",
    "    name_parts = athlete_name.split()\n",
    "    if len(name_parts) >= 2:\n",
    "        return f\"{name_parts[0]} {name_parts[1]}\"\n",
    "\n",
    "    return athlete_name\n",
    "\n",
    "\n",
    "def normalize_name(athlete_name):\n",
    "    athlete_name = split_name(athlete_name)\n",
    "    normalized_name = athlete_name.title()\n",
    "    normalized_name = normalized_name.replace(\" \", \"_\")\n",
    "    return normalized_name\n",
    "\n",
    "\n",
    "def get_wiki_page(athlete_name):\n",
    "    athlete_name = normalize_name(athlete_name)\n",
    "    user_agent = \"DataVisPrj (email@gmail.com)\"\n",
    "    wiki_wiki = wikipediaapi.Wikipedia(user_agent, \"en\")\n",
    "    page = wiki_wiki.page(athlete_name)\n",
    "\n",
    "    if page.exists():\n",
    "        return page.fullurl\n",
    "\n",
    "    return None\n",
    "\n",
    "\n",
    "def extract_birth_country(wikipedia_url):\n",
    "    response = requests.get(wikipedia_url)\n",
    "    if response.status_code == 200:\n",
    "        soup = BeautifulSoup(response.content, \"html.parser\")\n",
    "        infobox = soup.find(\"table\", {\"class\": \"infobox\"})\n",
    "        if infobox:\n",
    "            birthplace_info = infobox.find(class_=\"birthplace\")\n",
    "            if birthplace_info:\n",
    "                birth_info = birthplace_info.get_text()\n",
    "                # print(\"birth_info \",birth_info)\n",
    "                parts = birth_info.split(\",\")\n",
    "                if len(parts) > 1:\n",
    "                    country = parts[-1].strip()\n",
    "                    country_name = re.sub(r\"\\[.*?\\]\", \"\", country).strip()\n",
    "                    return country_name\n",
    "    return None\n",
    "\n",
    "\n",
    "def get_athlete_birth_country(athlete_name):\n",
    "    wikipedia_url = get_wiki_page(athlete_name)\n",
    "    if wikipedia_url:\n",
    "        return extract_birth_country(wikipedia_url)\n",
    "    return None\n",
    "\n",
    "\n",
    "def fetch_countries_parallel(athletes):\n",
    "    with ThreadPoolExecutor(max_workers=1) as executor:\n",
    "        birth_countries = list(executor.map(get_athlete_birth_country, athletes))\n",
    "    return birth_countries"
   ]
  },
  {
   "cell_type": "code",
   "execution_count": 5,
   "id": "f85d6016",
   "metadata": {},
   "outputs": [],
   "source": [
    "athlete_names_list = df[\"athlete_full_name\"].tolist()"
   ]
  },
  {
   "cell_type": "code",
   "execution_count": null,
   "id": "adaf04cc",
   "metadata": {},
   "outputs": [],
   "source": [
    "start_time = time.perf_counter()\n",
    "birth_countries = fetch_countries_parallel(athlete_names_list)\n",
    "end_time = time.perf_counter()\n",
    "print(\"time \", end_time - start_time)"
   ]
  },
  {
   "cell_type": "code",
   "execution_count": null,
   "id": "c4a930f5",
   "metadata": {},
   "outputs": [],
   "source": [
    "df[\"birth_country\"] = birth_countries"
   ]
  }
 ],
 "metadata": {
  "kernelspec": {
   "display_name": "Python 3 (ipykernel)",
   "language": "python",
   "name": "python3"
  },
  "language_info": {
   "codemirror_mode": {
    "name": "ipython",
    "version": 3
   },
   "file_extension": ".py",
   "mimetype": "text/x-python",
   "name": "python",
   "nbconvert_exporter": "python",
   "pygments_lexer": "ipython3",
   "version": "3.9.7"
  }
 },
 "nbformat": 4,
 "nbformat_minor": 5
}
